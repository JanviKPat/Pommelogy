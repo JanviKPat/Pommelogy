{
  "nbformat": 4,
  "nbformat_minor": 0,
  "metadata": {
    "colab": {
      "provenance": [],
      "gpuType": "T4"
    },
    "kernelspec": {
      "name": "python3",
      "display_name": "Python 3"
    },
    "language_info": {
      "name": "python"
    },
    "accelerator": "GPU"
  },
  "cells": [
    {
      "cell_type": "code",
      "execution_count": null,
      "metadata": {
        "colab": {
          "base_uri": "https://localhost:8080/",
          "height": 36
        },
        "id": "pghxKXvDEwGT",
        "outputId": "32ce0e3c-5fc4-4c17-e592-345404fd1393"
      },
      "outputs": [
        {
          "output_type": "execute_result",
          "data": {
            "text/plain": [
              "'/device:GPU:0'"
            ],
            "application/vnd.google.colaboratory.intrinsic+json": {
              "type": "string"
            }
          },
          "metadata": {},
          "execution_count": 1
        }
      ],
      "source": [
        "import tensorflow as tf\n",
        "tf.test.gpu_device_name()"
      ]
    },
    {
      "cell_type": "code",
      "source": [
        "device_name = tf.test.gpu_device_name()\n",
        "if len(device_name) > 0:\n",
        "    print(\"Found GPU at: {}\".format(device_name))\n",
        "else:\n",
        "    device_name = \"/device:CPU:0\"\n",
        "    print(\"No GPU, using {}.\".format(device_name))"
      ],
      "metadata": {
        "colab": {
          "base_uri": "https://localhost:8080/"
        },
        "id": "TqW0PydVE5Yu",
        "outputId": "2b0cc833-e7ad-4c35-b3d2-c618895d6c7d"
      },
      "execution_count": null,
      "outputs": [
        {
          "output_type": "stream",
          "name": "stdout",
          "text": [
            "Found GPU at: /device:GPU:0\n"
          ]
        }
      ]
    },
    {
      "cell_type": "code",
      "source": [
        "from google.colab import drive\n",
        "drive.mount('/content/drive')"
      ],
      "metadata": {
        "colab": {
          "base_uri": "https://localhost:8080/"
        },
        "id": "AfFOeIOXE87e",
        "outputId": "9c34ff1b-a88f-407a-b48d-2b5c1803b95a"
      },
      "execution_count": null,
      "outputs": [
        {
          "output_type": "stream",
          "name": "stdout",
          "text": [
            "Mounted at /content/drive\n"
          ]
        }
      ]
    },
    {
      "cell_type": "code",
      "source": [
        "\n",
        "# memory footprint support libraries/code\n",
        "!ln -sf /opt/bin/nvidia-smi /usr/bin/nvidia-smi\n",
        "!pip install gputil\n",
        "!pip install psutil\n",
        "!pip install humanize\n",
        "import psutil\n",
        "import humanize\n",
        "import os\n",
        "import GPUtil as GPU\n",
        "GPUs = GPU.getGPUs()\n",
        "gpu = GPUs[0]\n",
        "print(GPUs)\n",
        "# XXX: only one GPU on Colab and isn’t guaranteed\n",
        "# gpu = GPUs[0]\n",
        "def printm():\n",
        " process = psutil.Process(os.getpid())\n",
        " print(\"Gen RAM Free: \" + humanize.naturalsize( psutil.virtual_memory().available ), \" | Proc size: \" + humanize.naturalsize( process.memory_info().rss))\n",
        " print(\"GPU RAM Free: {0:.0f}MB | Used: {1:.0f}MB | Util {2:3.0f}% | Total {3:.0f}MB\".format(gpu.memoryFree, gpu.memoryUsed, gpu.memoryUtil*100, gpu.memoryTotal))\n",
        "printm()"
      ],
      "metadata": {
        "colab": {
          "base_uri": "https://localhost:8080/"
        },
        "id": "ENshwGqGE_K3",
        "outputId": "1d7fa49c-3f02-422f-c1e2-e615c907c013"
      },
      "execution_count": null,
      "outputs": [
        {
          "output_type": "stream",
          "name": "stdout",
          "text": [
            "Requirement already satisfied: gputil in /usr/local/lib/python3.10/dist-packages (1.4.0)\n",
            "Requirement already satisfied: psutil in /usr/local/lib/python3.10/dist-packages (5.9.5)\n",
            "Requirement already satisfied: humanize in /usr/local/lib/python3.10/dist-packages (4.7.0)\n",
            "[<GPUtil.GPUtil.GPU object at 0x7e915dd58c70>]\n",
            "Gen RAM Free: 11.6 GB  | Proc size: 906.3 MB\n",
            "GPU RAM Free: 14999MB | Used: 103MB | Util   1% | Total 15360MB\n"
          ]
        }
      ]
    },
    {
      "cell_type": "code",
      "source": [
        "\n",
        "import os\n",
        "import cv2\n",
        "from PIL import Image\n",
        "import tensorflow as tf\n",
        "from keras import backend as K\n",
        "from keras.models import load_model\n",
        "from tensorflow.keras.optimizers import Adam, RMSprop\n",
        "from tensorflow.keras.callbacks import ReduceLROnPlateau\n",
        "from tensorflow.keras.preprocessing.image import ImageDataGenerator\n",
        "from tensorflow.keras import regularizers"
      ],
      "metadata": {
        "id": "qSGmgI1OFCPw"
      },
      "execution_count": null,
      "outputs": []
    },
    {
      "cell_type": "code",
      "source": [
        "cd \"/content/drive/MyDrive/apple_variety\""
      ],
      "metadata": {
        "colab": {
          "base_uri": "https://localhost:8080/"
        },
        "id": "ARyCDX5QFEoh",
        "outputId": "3d151a8a-7d60-4db4-ac9a-3daa57fb3fda"
      },
      "execution_count": null,
      "outputs": [
        {
          "output_type": "stream",
          "name": "stdout",
          "text": [
            "/content/drive/MyDrive/apple_variety\n"
          ]
        }
      ]
    },
    {
      "cell_type": "code",
      "source": [
        "batch_size = 32\n",
        "input_shape = (256, 256, 3)\n",
        "image_size = (256, 256)"
      ],
      "metadata": {
        "id": "aKMEEJFUFIN6"
      },
      "execution_count": null,
      "outputs": []
    },
    {
      "cell_type": "code",
      "source": [
        "train_dir = \"/content/drive/MyDrive/apple_variety/datasaet_train_apple/\"\n",
        "test_dir = \"/content/drive/MyDrive/apple_variety/dataset_test_apple/\"\n",
        "validate_dir = \"/content/drive/MyDrive/apple_variety/dataset_validation_apple/\"\n",
        "\n",
        "train_datagen = ImageDataGenerator(\n",
        "    rescale=1./255,\n",
        "    rotation_range=40,\n",
        "    width_shift_range=0.2,\n",
        "    height_shift_range=0.2,\n",
        "    shear_range=0.2,\n",
        "    zoom_range=0.2,\n",
        "    horizontal_flip=True,\n",
        "    fill_mode='nearest',\n",
        "    validation_split=0.2\n",
        ")\n",
        "\n",
        "train_dataset = tf.keras.utils.image_dataset_from_directory(\n",
        "    train_dir,\n",
        "    labels='inferred',\n",
        "    label_mode='categorical',\n",
        "    batch_size=batch_size,\n",
        "    image_size=image_size,\n",
        "    seed=42,\n",
        "    subset='training',\n",
        "    validation_split=0.2\n",
        ")\n",
        "\n",
        "validation_dataset = tf.keras.utils.image_dataset_from_directory(\n",
        "    validate_dir,\n",
        "    labels='inferred',\n",
        "    label_mode='categorical',\n",
        "    batch_size=batch_size,\n",
        "    image_size=image_size,\n",
        "    seed=42,\n",
        "    subset='validation',\n",
        "    validation_split=0.2\n",
        ")\n",
        "\n",
        "\n",
        "test_set = tf.keras.utils.image_dataset_from_directory(\n",
        "    test_dir,\n",
        "    labels='inferred',\n",
        "    label_mode = 'categorical',\n",
        "    batch_size=batch_size,\n",
        "    image_size=(256, 256),\n",
        "    seed = 42)"
      ],
      "metadata": {
        "colab": {
          "base_uri": "https://localhost:8080/"
        },
        "id": "_moSMJk-FMBY",
        "outputId": "a54e3bdc-bb47-4689-feed-bd9cf252735e"
      },
      "execution_count": null,
      "outputs": [
        {
          "output_type": "stream",
          "name": "stdout",
          "text": [
            "Found 4557 files belonging to 20 classes.\n",
            "Using 3646 files for training.\n",
            "Found 6655 files belonging to 20 classes.\n",
            "Using 1331 files for validation.\n",
            "Found 6669 files belonging to 20 classes.\n"
          ]
        }
      ]
    },
    {
      "cell_type": "code",
      "source": [
        "from tensorflow.keras import Sequential\n",
        "from tensorflow.keras.layers import Conv2D, BatchNormalization, MaxPooling2D, Flatten, Dense, Dropout, RandomFlip, RandomRotation, RandomZoom, RandomContrast, Rescaling\n",
        "\n",
        "model = Sequential()\n",
        "model.add(Conv2D(32, (3, 3), activation='relu', input_shape=(256, 256, 3)))\n",
        "model.add(MaxPooling2D(2, 2))\n",
        "model.add(Conv2D(128, (3, 3), activation='relu'))\n",
        "model.add(MaxPooling2D(2, 2))\n",
        "model.add(Conv2D(128, (3, 3), activation='relu'))\n",
        "model.add(MaxPooling2D(2, 2))\n",
        "model.add(Conv2D(128, (3, 3), activation='relu'))\n",
        "model.add(MaxPooling2D(2, 2))\n",
        "model.add(Flatten())\n",
        "model.add(Dense(1024, activation='relu'))\n",
        "model.add(Dense(20, activation='softmax'))\n",
        "model.compile(optimizer='adam', loss='categorical_crossentropy', metrics=['accuracy'])\n",
        "model.summary()\n"
      ],
      "metadata": {
        "id": "sH2maKRIFPal",
        "colab": {
          "base_uri": "https://localhost:8080/"
        },
        "outputId": "ebdf85e7-c45f-4d27-e7ab-f700566f81a0"
      },
      "execution_count": null,
      "outputs": [
        {
          "output_type": "stream",
          "name": "stdout",
          "text": [
            "Model: \"sequential_2\"\n",
            "_________________________________________________________________\n",
            " Layer (type)                Output Shape              Param #   \n",
            "=================================================================\n",
            " conv2d_8 (Conv2D)           (None, 254, 254, 32)      896       \n",
            "                                                                 \n",
            " max_pooling2d_8 (MaxPoolin  (None, 127, 127, 32)      0         \n",
            " g2D)                                                            \n",
            "                                                                 \n",
            " conv2d_9 (Conv2D)           (None, 125, 125, 128)     36992     \n",
            "                                                                 \n",
            " max_pooling2d_9 (MaxPoolin  (None, 62, 62, 128)       0         \n",
            " g2D)                                                            \n",
            "                                                                 \n",
            " conv2d_10 (Conv2D)          (None, 60, 60, 128)       147584    \n",
            "                                                                 \n",
            " max_pooling2d_10 (MaxPooli  (None, 30, 30, 128)       0         \n",
            " ng2D)                                                           \n",
            "                                                                 \n",
            " conv2d_11 (Conv2D)          (None, 28, 28, 128)       147584    \n",
            "                                                                 \n",
            " max_pooling2d_11 (MaxPooli  (None, 14, 14, 128)       0         \n",
            " ng2D)                                                           \n",
            "                                                                 \n",
            " flatten_2 (Flatten)         (None, 25088)             0         \n",
            "                                                                 \n",
            " dense_4 (Dense)             (None, 1024)              25691136  \n",
            "                                                                 \n",
            " dense_5 (Dense)             (None, 20)                20500     \n",
            "                                                                 \n",
            "=================================================================\n",
            "Total params: 26044692 (99.35 MB)\n",
            "Trainable params: 26044692 (99.35 MB)\n",
            "Non-trainable params: 0 (0.00 Byte)\n",
            "_________________________________________________________________\n"
          ]
        }
      ]
    },
    {
      "cell_type": "code",
      "source": [
        "history = model.fit(\n",
        "    train_dataset,\n",
        "    epochs=50,\n",
        "    validation_data=validation_dataset\n",
        ")\n"
      ],
      "metadata": {
        "colab": {
          "base_uri": "https://localhost:8080/"
        },
        "id": "iG8UwXo5JJ67",
        "outputId": "a5a55228-156f-4cbd-e778-7b30e8e5308d"
      },
      "execution_count": null,
      "outputs": [
        {
          "output_type": "stream",
          "name": "stdout",
          "text": [
            "Epoch 1/50\n",
            "114/114 [==============================] - 1467s 12s/step - loss: 5.9666 - accuracy: 0.7644 - val_loss: 0.1913 - val_accuracy: 0.9204\n",
            "Epoch 2/50\n",
            "114/114 [==============================] - 25s 209ms/step - loss: 0.1253 - accuracy: 0.9600 - val_loss: 0.1021 - val_accuracy: 0.9782\n",
            "Epoch 3/50\n",
            "114/114 [==============================] - 22s 188ms/step - loss: 0.0836 - accuracy: 0.9753 - val_loss: 0.0065 - val_accuracy: 0.9992\n",
            "Epoch 4/50\n",
            "114/114 [==============================] - 23s 191ms/step - loss: 0.0726 - accuracy: 0.9781 - val_loss: 0.0148 - val_accuracy: 0.9955\n",
            "Epoch 5/50\n",
            "114/114 [==============================] - 24s 199ms/step - loss: 0.0650 - accuracy: 0.9789 - val_loss: 0.0097 - val_accuracy: 0.9955\n",
            "Epoch 6/50\n",
            "114/114 [==============================] - 22s 186ms/step - loss: 0.0017 - accuracy: 0.9995 - val_loss: 9.5651e-05 - val_accuracy: 1.0000\n",
            "Epoch 7/50\n",
            "114/114 [==============================] - 25s 202ms/step - loss: 7.3331e-05 - accuracy: 1.0000 - val_loss: 5.5198e-05 - val_accuracy: 1.0000\n",
            "Epoch 8/50\n",
            "114/114 [==============================] - 24s 199ms/step - loss: 4.7104e-05 - accuracy: 1.0000 - val_loss: 4.0765e-05 - val_accuracy: 1.0000\n",
            "Epoch 9/50\n",
            "114/114 [==============================] - 22s 186ms/step - loss: 3.4370e-05 - accuracy: 1.0000 - val_loss: 3.1986e-05 - val_accuracy: 1.0000\n",
            "Epoch 10/50\n",
            "114/114 [==============================] - 23s 193ms/step - loss: 2.7005e-05 - accuracy: 1.0000 - val_loss: 2.3980e-05 - val_accuracy: 1.0000\n",
            "Epoch 11/50\n",
            "114/114 [==============================] - 24s 200ms/step - loss: 1.8713e-05 - accuracy: 1.0000 - val_loss: 1.6491e-05 - val_accuracy: 1.0000\n",
            "Epoch 12/50\n",
            "114/114 [==============================] - 23s 190ms/step - loss: 1.3713e-05 - accuracy: 1.0000 - val_loss: 1.3134e-05 - val_accuracy: 1.0000\n",
            "Epoch 13/50\n",
            "114/114 [==============================] - 24s 204ms/step - loss: 1.0995e-05 - accuracy: 1.0000 - val_loss: 1.1038e-05 - val_accuracy: 1.0000\n",
            "Epoch 14/50\n",
            "114/114 [==============================] - 24s 200ms/step - loss: 8.8995e-06 - accuracy: 1.0000 - val_loss: 9.4671e-06 - val_accuracy: 1.0000\n",
            "Epoch 15/50\n",
            "114/114 [==============================] - 22s 190ms/step - loss: 7.6428e-06 - accuracy: 1.0000 - val_loss: 8.1170e-06 - val_accuracy: 1.0000\n",
            "Epoch 16/50\n",
            "114/114 [==============================] - 29s 250ms/step - loss: 6.5354e-06 - accuracy: 1.0000 - val_loss: 7.1387e-06 - val_accuracy: 1.0000\n",
            "Epoch 17/50\n",
            "114/114 [==============================] - 24s 202ms/step - loss: 5.6765e-06 - accuracy: 1.0000 - val_loss: 6.4272e-06 - val_accuracy: 1.0000\n",
            "Epoch 18/50\n",
            "114/114 [==============================] - 24s 203ms/step - loss: 5.0108e-06 - accuracy: 1.0000 - val_loss: 5.6903e-06 - val_accuracy: 1.0000\n",
            "Epoch 19/50\n",
            "114/114 [==============================] - 22s 185ms/step - loss: 4.3844e-06 - accuracy: 1.0000 - val_loss: 5.0741e-06 - val_accuracy: 1.0000\n",
            "Epoch 20/50\n",
            "114/114 [==============================] - 25s 210ms/step - loss: 3.9067e-06 - accuracy: 1.0000 - val_loss: 4.6659e-06 - val_accuracy: 1.0000\n",
            "Epoch 21/50\n",
            "114/114 [==============================] - 23s 194ms/step - loss: 3.5061e-06 - accuracy: 1.0000 - val_loss: 4.1817e-06 - val_accuracy: 1.0000\n",
            "Epoch 22/50\n",
            "114/114 [==============================] - 23s 193ms/step - loss: 3.1934e-06 - accuracy: 1.0000 - val_loss: 3.8004e-06 - val_accuracy: 1.0000\n",
            "Epoch 23/50\n",
            "114/114 [==============================] - 24s 199ms/step - loss: 2.9009e-06 - accuracy: 1.0000 - val_loss: 3.4579e-06 - val_accuracy: 1.0000\n",
            "Epoch 24/50\n",
            "114/114 [==============================] - 22s 188ms/step - loss: 2.6752e-06 - accuracy: 1.0000 - val_loss: 3.1743e-06 - val_accuracy: 1.0000\n",
            "Epoch 25/50\n",
            "114/114 [==============================] - 24s 194ms/step - loss: 2.4458e-06 - accuracy: 1.0000 - val_loss: 2.8809e-06 - val_accuracy: 1.0000\n",
            "Epoch 26/50\n",
            "114/114 [==============================] - 35s 296ms/step - loss: 2.2426e-06 - accuracy: 1.0000 - val_loss: 2.6642e-06 - val_accuracy: 1.0000\n",
            "Epoch 27/50\n",
            "114/114 [==============================] - 23s 194ms/step - loss: 2.0798e-06 - accuracy: 1.0000 - val_loss: 2.4777e-06 - val_accuracy: 1.0000\n",
            "Epoch 28/50\n",
            "114/114 [==============================] - 24s 201ms/step - loss: 1.8998e-06 - accuracy: 1.0000 - val_loss: 2.2807e-06 - val_accuracy: 1.0000\n",
            "Epoch 29/50\n",
            "114/114 [==============================] - 24s 204ms/step - loss: 1.7595e-06 - accuracy: 1.0000 - val_loss: 2.1453e-06 - val_accuracy: 1.0000\n",
            "Epoch 30/50\n",
            "114/114 [==============================] - 25s 211ms/step - loss: 1.6277e-06 - accuracy: 1.0000 - val_loss: 2.0092e-06 - val_accuracy: 1.0000\n",
            "Epoch 31/50\n",
            "114/114 [==============================] - 24s 201ms/step - loss: 1.5237e-06 - accuracy: 1.0000 - val_loss: 1.8591e-06 - val_accuracy: 1.0000\n",
            "Epoch 32/50\n",
            "114/114 [==============================] - 25s 210ms/step - loss: 1.3990e-06 - accuracy: 1.0000 - val_loss: 1.7184e-06 - val_accuracy: 1.0000\n",
            "Epoch 33/50\n",
            "114/114 [==============================] - 22s 189ms/step - loss: 1.2842e-06 - accuracy: 1.0000 - val_loss: 1.5851e-06 - val_accuracy: 1.0000\n",
            "Epoch 34/50\n",
            "114/114 [==============================] - 23s 188ms/step - loss: 1.1777e-06 - accuracy: 1.0000 - val_loss: 1.4397e-06 - val_accuracy: 1.0000\n",
            "Epoch 35/50\n",
            "114/114 [==============================] - 22s 186ms/step - loss: 1.0754e-06 - accuracy: 1.0000 - val_loss: 1.3115e-06 - val_accuracy: 1.0000\n",
            "Epoch 36/50\n",
            "114/114 [==============================] - 27s 233ms/step - loss: 9.8587e-07 - accuracy: 1.0000 - val_loss: 1.1665e-06 - val_accuracy: 1.0000\n",
            "Epoch 37/50\n",
            "114/114 [==============================] - 28s 234ms/step - loss: 8.9589e-07 - accuracy: 1.0000 - val_loss: 1.0543e-06 - val_accuracy: 1.0000\n",
            "Epoch 38/50\n",
            "114/114 [==============================] - 30s 253ms/step - loss: 8.3145e-07 - accuracy: 1.0000 - val_loss: 9.6029e-07 - val_accuracy: 1.0000\n",
            "Epoch 39/50\n",
            "114/114 [==============================] - 23s 191ms/step - loss: 7.5357e-07 - accuracy: 1.0000 - val_loss: 8.7404e-07 - val_accuracy: 1.0000\n",
            "Epoch 40/50\n",
            "114/114 [==============================] - 25s 202ms/step - loss: 7.0217e-07 - accuracy: 1.0000 - val_loss: 7.9693e-07 - val_accuracy: 1.0000\n",
            "Epoch 41/50\n",
            "114/114 [==============================] - 23s 192ms/step - loss: 6.3541e-07 - accuracy: 1.0000 - val_loss: 7.3047e-07 - val_accuracy: 1.0000\n",
            "Epoch 42/50\n",
            "114/114 [==============================] - 24s 203ms/step - loss: 5.8627e-07 - accuracy: 1.0000 - val_loss: 6.7011e-07 - val_accuracy: 1.0000\n",
            "Epoch 43/50\n",
            "114/114 [==============================] - 28s 237ms/step - loss: 5.4697e-07 - accuracy: 1.0000 - val_loss: 6.1861e-07 - val_accuracy: 1.0000\n",
            "Epoch 44/50\n",
            "114/114 [==============================] - 25s 214ms/step - loss: 5.0116e-07 - accuracy: 1.0000 - val_loss: 5.7195e-07 - val_accuracy: 1.0000\n",
            "Epoch 45/50\n",
            "114/114 [==============================] - 23s 196ms/step - loss: 4.6402e-07 - accuracy: 1.0000 - val_loss: 5.2170e-07 - val_accuracy: 1.0000\n",
            "Epoch 46/50\n",
            "114/114 [==============================] - 25s 208ms/step - loss: 4.2871e-07 - accuracy: 1.0000 - val_loss: 4.8069e-07 - val_accuracy: 1.0000\n",
            "Epoch 47/50\n",
            "114/114 [==============================] - 24s 204ms/step - loss: 3.9823e-07 - accuracy: 1.0000 - val_loss: 4.4531e-07 - val_accuracy: 1.0000\n",
            "Epoch 48/50\n",
            "114/114 [==============================] - 28s 237ms/step - loss: 3.6528e-07 - accuracy: 1.0000 - val_loss: 4.0706e-07 - val_accuracy: 1.0000\n",
            "Epoch 49/50\n",
            "114/114 [==============================] - 28s 236ms/step - loss: 3.3651e-07 - accuracy: 1.0000 - val_loss: 3.7715e-07 - val_accuracy: 1.0000\n",
            "Epoch 50/50\n",
            "114/114 [==============================] - 28s 233ms/step - loss: 3.1071e-07 - accuracy: 1.0000 - val_loss: 3.4392e-07 - val_accuracy: 1.0000\n"
          ]
        }
      ]
    },
    {
      "cell_type": "code",
      "source": [
        "loss, accuracy = model.evaluate(validation_dataset)\n",
        "print(f\"Validation Loss: {loss}\")\n",
        "print(f\"Validation Accuracy: {accuracy}\")\n"
      ],
      "metadata": {
        "colab": {
          "base_uri": "https://localhost:8080/",
          "height": 176
        },
        "id": "wmFGurpVJP5e",
        "outputId": "e797104a-bb01-4887-8edf-16acfa03c19f"
      },
      "execution_count": null,
      "outputs": [
        {
          "output_type": "error",
          "ename": "NameError",
          "evalue": "name 'model' is not defined",
          "traceback": [
            "\u001b[0;31m---------------------------------------------------------------------------\u001b[0m",
            "\u001b[0;31mNameError\u001b[0m                                 Traceback (most recent call last)",
            "\u001b[0;32m<ipython-input-1-b311e15d3626>\u001b[0m in \u001b[0;36m<cell line: 1>\u001b[0;34m()\u001b[0m\n\u001b[0;32m----> 1\u001b[0;31m \u001b[0mloss\u001b[0m\u001b[0;34m,\u001b[0m \u001b[0maccuracy\u001b[0m \u001b[0;34m=\u001b[0m \u001b[0mmodel\u001b[0m\u001b[0;34m.\u001b[0m\u001b[0mevaluate\u001b[0m\u001b[0;34m(\u001b[0m\u001b[0mvalidation_dataset\u001b[0m\u001b[0;34m)\u001b[0m\u001b[0;34m\u001b[0m\u001b[0;34m\u001b[0m\u001b[0m\n\u001b[0m\u001b[1;32m      2\u001b[0m \u001b[0mprint\u001b[0m\u001b[0;34m(\u001b[0m\u001b[0;34mf\"Validation Loss: {loss}\"\u001b[0m\u001b[0;34m)\u001b[0m\u001b[0;34m\u001b[0m\u001b[0;34m\u001b[0m\u001b[0m\n\u001b[1;32m      3\u001b[0m \u001b[0mprint\u001b[0m\u001b[0;34m(\u001b[0m\u001b[0;34mf\"Validation Accuracy: {accuracy}\"\u001b[0m\u001b[0;34m)\u001b[0m\u001b[0;34m\u001b[0m\u001b[0;34m\u001b[0m\u001b[0m\n",
            "\u001b[0;31mNameError\u001b[0m: name 'model' is not defined"
          ]
        }
      ]
    },
    {
      "cell_type": "code",
      "source": [
        "model.save('fresh_try_pommelogy')"
      ],
      "metadata": {
        "id": "UnerOcL1JV_R",
        "outputId": "6c26e876-3dfd-46de-8d96-eef97f8ee394",
        "colab": {
          "base_uri": "https://localhost:8080/",
          "height": 141
        }
      },
      "execution_count": null,
      "outputs": [
        {
          "output_type": "error",
          "ename": "NameError",
          "evalue": "name 'model' is not defined",
          "traceback": [
            "\u001b[0;31m---------------------------------------------------------------------------\u001b[0m",
            "\u001b[0;31mNameError\u001b[0m                                 Traceback (most recent call last)",
            "\u001b[0;32m<ipython-input-2-5c01af8dec5b>\u001b[0m in \u001b[0;36m<cell line: 1>\u001b[0;34m()\u001b[0m\n\u001b[0;32m----> 1\u001b[0;31m \u001b[0mmodel\u001b[0m\u001b[0;34m.\u001b[0m\u001b[0msave\u001b[0m\u001b[0;34m(\u001b[0m\u001b[0;34m'fresh_try_pommelogy'\u001b[0m\u001b[0;34m)\u001b[0m\u001b[0;34m\u001b[0m\u001b[0;34m\u001b[0m\u001b[0m\n\u001b[0m",
            "\u001b[0;31mNameError\u001b[0m: name 'model' is not defined"
          ]
        }
      ]
    },
    {
      "cell_type": "code",
      "source": [
        "import matplotlib.pyplot as plt\n",
        "\n",
        "plt.plot(history.history['accuracy'], label='accuracy')\n",
        "plt.plot(history.history['val_accuracy'], label='val_accuracy')\n",
        "plt.xlabel('Epoch')\n",
        "plt.ylabel('Accuracy')\n",
        "plt.ylim([0, 1])\n",
        "plt.legend(loc='lower right')\n",
        "plt.show()\n"
      ],
      "metadata": {
        "colab": {
          "base_uri": "https://localhost:8080/",
          "height": 455
        },
        "id": "TmHmeY8jJbWB",
        "outputId": "43683f7e-ee7d-4edf-86e7-1c55bf7a8899"
      },
      "execution_count": null,
      "outputs": [
        {
          "output_type": "display_data",
          "data": {
            "text/plain": [
              "<Figure size 640x480 with 1 Axes>"
            ],
            "image/png": "[encoded data removed]"
          },
          "metadata": {}
        }
      ]
    }
  ]
}